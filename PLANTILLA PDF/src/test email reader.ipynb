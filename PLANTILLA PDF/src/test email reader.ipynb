{
 "cells": [
  {
   "cell_type": "code",
   "execution_count": 8,
   "id": "655e83f1-7de8-4918-8168-770d72abdd4d",
   "metadata": {},
   "outputs": [
    {
     "ename": "FileNotFoundError",
     "evalue": "[Errno 2] No such file or directory: 'Desktop/PROYECTOS KIPU/PLANTILLA PDF/src/attachments/2IXFUO-AV_2IXFUO.pdf'",
     "output_type": "error",
     "traceback": [
      "\u001b[1;31m---------------------------------------------------------------------------\u001b[0m",
      "\u001b[1;31mFileNotFoundError\u001b[0m                         Traceback (most recent call last)",
      "Cell \u001b[1;32mIn[8], line 5\u001b[0m\n\u001b[0;32m      3\u001b[0m \u001b[38;5;66;03m# Probar la extracción de detalles del vuelo desde un archivo PDF\u001b[39;00m\n\u001b[0;32m      4\u001b[0m pdf_path \u001b[38;5;241m=\u001b[39m \u001b[38;5;124m\"\u001b[39m\u001b[38;5;124mDesktop/PROYECTOS KIPU/PLANTILLA PDF/src/attachments/2IXFUO-AV_2IXFUO.pdf\u001b[39m\u001b[38;5;124m\"\u001b[39m  \u001b[38;5;66;03m# Cambia esto por la ruta real de tu PDF\u001b[39;00m\n\u001b[1;32m----> 5\u001b[0m flight_details \u001b[38;5;241m=\u001b[39m data_parser\u001b[38;5;241m.\u001b[39mextract_flight_details_from_pdf(pdf_path)\n\u001b[0;32m      7\u001b[0m \u001b[38;5;66;03m# Mostrar los detalles extraídos del vuelo\u001b[39;00m\n\u001b[0;32m      8\u001b[0m \u001b[38;5;28mprint\u001b[39m(flight_details)\n",
      "File \u001b[1;32m~\\Desktop\\PROYECTOS KIPU\\PLANTILLA PDF\\src\\data_parser.py:15\u001b[0m, in \u001b[0;36mextract_flight_details_from_pdf\u001b[1;34m(pdf_filepath)\u001b[0m\n\u001b[0;32m      5\u001b[0m \u001b[38;5;250m\u001b[39m\u001b[38;5;124;03m\"\"\"\u001b[39;00m\n\u001b[0;32m      6\u001b[0m \u001b[38;5;124;03mExtrae los detalles del vuelo desde un archivo PDF.\u001b[39;00m\n\u001b[0;32m      7\u001b[0m \u001b[38;5;124;03m\"\"\"\u001b[39;00m\n\u001b[0;32m      8\u001b[0m flight_details \u001b[38;5;241m=\u001b[39m {\n\u001b[0;32m      9\u001b[0m     \u001b[38;5;124m\"\u001b[39m\u001b[38;5;124mcodigo_reserva\u001b[39m\u001b[38;5;124m\"\u001b[39m: \u001b[38;5;28;01mNone\u001b[39;00m,\n\u001b[0;32m     10\u001b[0m     \u001b[38;5;124m\"\u001b[39m\u001b[38;5;124mnombre_pasajero\u001b[39m\u001b[38;5;124m\"\u001b[39m: \u001b[38;5;28;01mNone\u001b[39;00m,\n\u001b[0;32m     11\u001b[0m     \u001b[38;5;124m\"\u001b[39m\u001b[38;5;124mfecha_salida\u001b[39m\u001b[38;5;124m\"\u001b[39m: \u001b[38;5;28;01mNone\u001b[39;00m,\n\u001b[0;32m     12\u001b[0m     \u001b[38;5;124m\"\u001b[39m\u001b[38;5;124mfecha_llegada\u001b[39m\u001b[38;5;124m\"\u001b[39m: \u001b[38;5;28;01mNone\u001b[39;00m\n\u001b[0;32m     13\u001b[0m }\n\u001b[1;32m---> 15\u001b[0m \u001b[38;5;28;01mwith\u001b[39;00m pdfplumber\u001b[38;5;241m.\u001b[39mopen(pdf_filepath) \u001b[38;5;28;01mas\u001b[39;00m pdf:\n\u001b[0;32m     16\u001b[0m     \u001b[38;5;28;01mfor\u001b[39;00m page \u001b[38;5;129;01min\u001b[39;00m pdf\u001b[38;5;241m.\u001b[39mpages:\n\u001b[0;32m     17\u001b[0m         text \u001b[38;5;241m=\u001b[39m page\u001b[38;5;241m.\u001b[39mextract_text()\n",
      "File \u001b[1;32m~\\anaconda3\\Lib\\site-packages\\pdfplumber\\pdf.py:92\u001b[0m, in \u001b[0;36mPDF.open\u001b[1;34m(cls, path_or_fp, pages, laparams, password, strict_metadata, unicode_norm, repair, gs_path, repair_setting)\u001b[0m\n\u001b[0;32m     90\u001b[0m     path \u001b[38;5;241m=\u001b[39m \u001b[38;5;28;01mNone\u001b[39;00m\n\u001b[0;32m     91\u001b[0m \u001b[38;5;28;01melif\u001b[39;00m \u001b[38;5;28misinstance\u001b[39m(path_or_fp, (\u001b[38;5;28mstr\u001b[39m, pathlib\u001b[38;5;241m.\u001b[39mPath)):\n\u001b[1;32m---> 92\u001b[0m     stream \u001b[38;5;241m=\u001b[39m \u001b[38;5;28mopen\u001b[39m(path_or_fp, \u001b[38;5;124m\"\u001b[39m\u001b[38;5;124mrb\u001b[39m\u001b[38;5;124m\"\u001b[39m)\n\u001b[0;32m     93\u001b[0m     stream_is_external \u001b[38;5;241m=\u001b[39m \u001b[38;5;28;01mFalse\u001b[39;00m\n\u001b[0;32m     94\u001b[0m     path \u001b[38;5;241m=\u001b[39m pathlib\u001b[38;5;241m.\u001b[39mPath(path_or_fp)\n",
      "\u001b[1;31mFileNotFoundError\u001b[0m: [Errno 2] No such file or directory: 'Desktop/PROYECTOS KIPU/PLANTILLA PDF/src/attachments/2IXFUO-AV_2IXFUO.pdf'"
     ]
    }
   ],
   "source": [
    "import data_parser\n",
    "\n",
    "# Probar la extracción de detalles del vuelo desde un archivo PDF\n",
    "pdf_path = \"Desktop/PROYECTOS KIPU/PLANTILLA PDF/src/attachments/2IXFUO-AV_2IXFUO.pdf\"  # Cambia esto por la ruta real de tu PDF\n",
    "flight_details = data_parser.extract_flight_details_from_pdf(pdf_path)\n",
    "\n",
    "# Mostrar los detalles extraídos del vuelo\n",
    "print(flight_details)\n",
    "\n"
   ]
  },
  {
   "cell_type": "code",
   "execution_count": 2,
   "id": "4baedd06-3646-4f5a-84ea-a37d11a41097",
   "metadata": {},
   "outputs": [
    {
     "name": "stdout",
     "output_type": "stream",
     "text": [
      "Conexión exitosa con Gmail\n",
      "Se encontraron 0 correos.\n"
     ]
    }
   ],
   "source": []
  },
  {
   "cell_type": "code",
   "execution_count": 3,
   "id": "81f29c6c-5ae5-4581-b332-eea16a27240e",
   "metadata": {},
   "outputs": [],
   "source": [
    "\n"
   ]
  },
  {
   "cell_type": "code",
   "execution_count": null,
   "id": "d446d868-0f8d-46cf-9985-9bbb3aec1a85",
   "metadata": {},
   "outputs": [],
   "source": []
  }
 ],
 "metadata": {
  "kernelspec": {
   "display_name": "Python 3 (ipykernel)",
   "language": "python",
   "name": "python3"
  },
  "language_info": {
   "codemirror_mode": {
    "name": "ipython",
    "version": 3
   },
   "file_extension": ".py",
   "mimetype": "text/x-python",
   "name": "python",
   "nbconvert_exporter": "python",
   "pygments_lexer": "ipython3",
   "version": "3.12.4"
  }
 },
 "nbformat": 4,
 "nbformat_minor": 5
}
